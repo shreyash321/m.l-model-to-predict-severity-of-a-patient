{
 "cells": [
  {
   "cell_type": "code",
   "execution_count": 1,
   "id": "af26383d",
   "metadata": {},
   "outputs": [
    {
     "name": "stdout",
     "output_type": "stream",
     "text": [
      "     Series_reference   Period            Type  Data_value   Lower_CI  \\\n",
      "0               W_A11  2000-02  Moving average   59.666667  50.925823   \n",
      "1               W_A11  2001-03  Moving average   60.000000  51.234775   \n",
      "2               W_A11  2002-04  Moving average   59.000000  50.308125   \n",
      "3               W_A11  2003-05  Moving average   59.000000  50.308125   \n",
      "4               W_A11  2004-06  Moving average   61.333333  52.471252   \n",
      "...               ...      ...             ...         ...        ...   \n",
      "2743              p21     2014     Single year   46.000000  32.706878   \n",
      "2744              p21     2015     Single year   41.000000  28.450107   \n",
      "2745              p21     2016     Single year   36.000000  24.240216   \n",
      "2746              p21     2017     Single year   40.000000  27.604099   \n",
      "2747              p21     2018     Single year   41.000000  28.450107   \n",
      "\n",
      "       Upper_CI     Units Indicator       Cause Validation Population  \\\n",
      "0     68.407510  Injuries    Number     Assault  Validated  Whole pop   \n",
      "1     68.765225  Injuries    Number     Assault  Validated  Whole pop   \n",
      "2     67.691875  Injuries    Number     Assault  Validated  Whole pop   \n",
      "3     67.691875  Injuries    Number     Assault  Validated  Whole pop   \n",
      "4     70.195415  Injuries    Number     Assault  Validated  Whole pop   \n",
      "...         ...       ...       ...         ...        ...        ...   \n",
      "2743  59.293122  Injuries    Number  Pedestrian  Validated   Children   \n",
      "2744  53.549893  Injuries    Number  Pedestrian  Validated   Children   \n",
      "2745  47.759784  Injuries    Number  Pedestrian  Validated   Children   \n",
      "2746  52.395901  Injuries    Number  Pedestrian  Validated   Children   \n",
      "2747  53.549893  Injuries    Number  Pedestrian  Validated   Children   \n",
      "\n",
      "             Age Severity  \n",
      "0       All ages    Fatal  \n",
      "1       All ages    Fatal  \n",
      "2       All ages    Fatal  \n",
      "3       All ages    Fatal  \n",
      "4       All ages    Fatal  \n",
      "...          ...      ...  \n",
      "2743  0-14 years  Serious  \n",
      "2744  0-14 years  Serious  \n",
      "2745  0-14 years  Serious  \n",
      "2746  0-14 years  Serious  \n",
      "2747  0-14 years  Serious  \n",
      "\n",
      "[2748 rows x 13 columns]\n",
      "67\n",
      "Results of Logistic Regression :--\n",
      "actual output-- Serious non-fatal\n",
      "prediction ['Fatal']\n",
      "0.4672489082969432\n",
      "Results of random forest :--\n",
      "actual output-- Serious non-fatal\n",
      "prediction ['Serious non-fatal']\n",
      "0.6128093158660844\n"
     ]
    },
    {
     "name": "stderr",
     "output_type": "stream",
     "text": [
      "C:\\Users\\91932\\anaconda3\\lib\\site-packages\\sklearn\\base.py:561: FutureWarning: Arrays of bytes/strings is being converted to decimal numbers if dtype='numeric'. This behavior is deprecated in 0.24 and will be removed in 1.1 (renaming of 0.26). Please convert your data to numeric values explicitly instead.\n",
      "  X = check_array(X, **check_params)\n"
     ]
    },
    {
     "data": {
      "text/plain": [
       "<AxesSubplot:>"
      ]
     },
     "execution_count": 1,
     "metadata": {},
     "output_type": "execute_result"
    },
    {
     "data": {
      "text/plain": [
       "<Figure size 432x288 with 0 Axes>"
      ]
     },
     "metadata": {},
     "output_type": "display_data"
    },
    {
     "data": {
      "image/png": "[encoded data removed]",
      "text/plain": [
       "<Figure size 432x288 with 1 Axes>"
      ]
     },
     "metadata": {
      "needs_background": "light"
     },
     "output_type": "display_data"
    }
   ],
   "source": [
    "import pandas as ss \n",
    "import numpy as np \n",
    "from sklearn.tree import DecisionTreeClassifier\n",
    "import matplotlib.pyplot as plt\n",
    "from sklearn.linear_model import LogisticRegression\n",
    "from sklearn.model_selection import train_test_split\n",
    "from sklearn.ensemble import RandomForestClassifier\n",
    "from sklearn import tree\n",
    "from sklearn.model_selection import GridSearchCV\n",
    "d=ss.read_csv('https://www.stats.govt.nz/assets/Uploads/Serious-injury-outcome-indicators/Serious-injury-outcome-indicators-2000-20/Download-data/serious-injury-outcome-indicators-2000-2020-CSV.csv')\n",
    "print(d)\n",
    "d['Moving average']=d['Type']=='Moving average'\n",
    "d['Assualt']=d['Cause']=='Assault'\n",
    "d['Children']=d['Population']=='Children'\n",
    "p=d[['Data_value','Lower_CI','Upper_CI']].values\n",
    "k=d[['Data_value','Lower_CI','Upper_CI','Children','Assualt','Moving average']].values\n",
    "l=d['Severity'].values\n",
    "x_train,x_test,y_train,y_test = train_test_split(k,l)\n",
    "model=LogisticRegression(max_iter=1000)\n",
    "model.fit(x_train,y_train)\n",
    "#print(model.predict([[41,28.45,53.54,True,False,False]]))\n",
    "i=int(input())\n",
    "x=x_test[i]\n",
    "print('Results of Logistic Regression :--')\n",
    "print('actual output--',y_test[i])\n",
    "print('prediction',model.predict([x]))\n",
    "print(model.score(x_test,y_test))\n",
    "rf=RandomForestClassifier(n_estimators=20,random_state=111)\n",
    "rf.fit(x_train,y_train)\n",
    "first_row=x_test[i]\n",
    "print('Results of random forest :--')\n",
    "print('actual output--',y_test[i])\n",
    "print('prediction',rf.predict([first_row]))\n",
    "print(rf.score(x_test,y_test))\n",
    "#pf = ss.DataFrame(np.random.randn(1000, 5), columns=list(\"ABCDE\"))\n",
    "pf = ss.DataFrame(p,columns=list(\"ABC\"))\n",
    "pf = pf.cumsum()\n",
    "plt.figure()\n",
    "pf.plot()"
   ]
  },
  {
   "cell_type": "code",
   "execution_count": null,
   "id": "94b6a148",
   "metadata": {},
   "outputs": [],
   "source": []
  }
 ],
 "metadata": {
  "kernelspec": {
   "display_name": "Python 3 (ipykernel)",
   "language": "python",
   "name": "python3"
  },
  "language_info": {
   "codemirror_mode": {
    "name": "ipython",
    "version": 3
   },
   "file_extension": ".py",
   "mimetype": "text/x-python",
   "name": "python",
   "nbconvert_exporter": "python",
   "pygments_lexer": "ipython3",
   "version": "3.9.7"
  }
 },
 "nbformat": 4,
 "nbformat_minor": 5
}
